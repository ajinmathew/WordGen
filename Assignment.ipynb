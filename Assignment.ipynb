{
  "nbformat": 4,
  "nbformat_minor": 0,
  "metadata": {
    "colab": {
      "name": "Assignment.ipynb",
      "provenance": [],
      "collapsed_sections": [],
      "authorship_tag": "ABX9TyNHSLvGynH9V77zYXKymB/a",
      "include_colab_link": true
    },
    "kernelspec": {
      "name": "python3",
      "display_name": "Python 3"
    }
  },
  "cells": [
    {
      "cell_type": "markdown",
      "metadata": {
        "id": "view-in-github",
        "colab_type": "text"
      },
      "source": [
        "<a href=\"https://colab.research.google.com/github/ajinmathew/WordGen/blob/master/Assignment.ipynb\" target=\"_parent\"><img src=\"https://colab.research.google.com/assets/colab-badge.svg\" alt=\"Open In Colab\"/></a>"
      ]
    },
    {
      "cell_type": "code",
      "metadata": {
        "colab": {
          "base_uri": "https://localhost:8080/"
        },
        "id": "KZxXFuxlXvkg",
        "outputId": "cf4a65e9-cc6b-40c7-af96-e169baa0f698"
      },
      "source": [
        "#Fibonacci series\n",
        "num_of_elements = int(input(\"enter the number of elements : \"))\n",
        "n1 = 0\n",
        "n2 = 1\n",
        "count = 0\n",
        "\n",
        "if num_of_elements>0:\n",
        "  print(n1)\n",
        "  if num_of_elements>=2:\n",
        "    print(n2)\n",
        "    if num_of_elements>=3:\n",
        "      next= n1+n2\n",
        "      print(next)\n",
        "      prev = n2\n",
        "      while count <= num_of_elements-4:\n",
        "        nextn = next + prev\n",
        "        print(nextn)\n",
        "        count = count +1 \n",
        "        prev = next\n",
        "        next = nextn\n",
        "elif num_of_elements==0:\n",
        "  print(\"enter a positive number\")\n",
        "else:\n",
        "  print(\"enter a positive number\")"
      ],
      "execution_count": null,
      "outputs": [
        {
          "output_type": "stream",
          "text": [
            "enter the number of elements : 5\n",
            "0\n",
            "1\n",
            "1\n",
            "2\n",
            "3\n"
          ],
          "name": "stdout"
        }
      ]
    },
    {
      "cell_type": "code",
      "metadata": {
        "colab": {
          "base_uri": "https://localhost:8080/"
        },
        "id": "oAKDaIHcZHdB",
        "outputId": "35097975-77b7-4fe1-dcab-1735496ab273"
      },
      "source": [
        "#median of a series of numbers...\n",
        "list1=[10,8,12,4,16,7,13]\n",
        "list1.sort()\n",
        "print(\"After sorting\",list1)\n",
        "length = len(list1)\n",
        "print(\"length of the series is\", length)\n",
        "\n",
        "if length%2 ==0:\n",
        "  mid1 = list1[length//2]\n",
        "  mid2 = list1[length//2-1]\n",
        "  median = (mid1+mid2)/2\n",
        "  print(\"median:\",median)\n",
        "\n",
        "else: median = list1[length//2]\n",
        "print(\"median = \",median)"
      ],
      "execution_count": null,
      "outputs": [
        {
          "output_type": "stream",
          "text": [
            "After sorting [4, 7, 8, 10, 12, 13, 16]\n",
            "length of the series is 7\n",
            "median =  10\n"
          ],
          "name": "stdout"
        }
      ]
    },
    {
      "cell_type": "code",
      "metadata": {
        "colab": {
          "base_uri": "https://localhost:8080/"
        },
        "id": "dZkzruEvadhz",
        "outputId": "2ded4473-1db2-4c98-da8d-a4f5adcb941e"
      },
      "source": [
        "#number is amstrong or not\n",
        "num = int(input(\"enter the number : \"))\n",
        "order = len(str(num))\n",
        "print(\"order = \",order)\n",
        "\n",
        "sum = 0\n",
        "number=num\n",
        "while number > 0:\n",
        "  digit = number%10\n",
        "  sum = sum+digit**order\n",
        "  number = number//10\n",
        "\n",
        "print(\"sum = \",sum)\n",
        "\n",
        "if num == sum:\n",
        "  print(num,\"is an amstrong number\")\n",
        "else:\n",
        "  print(num,\"is not an amstrong number\")"
      ],
      "execution_count": null,
      "outputs": [
        {
          "output_type": "stream",
          "text": [
            "enter the number : 153\n",
            "order =  3\n",
            "sum =  153\n",
            "153 is an amstrong number\n"
          ],
          "name": "stdout"
        }
      ]
    }
  ]
}